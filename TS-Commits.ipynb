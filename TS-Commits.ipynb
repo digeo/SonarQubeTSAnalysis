{
 "cells": [
  {
   "cell_type": "code",
   "execution_count": 1,
   "metadata": {
    "collapsed": true
   },
   "outputs": [],
   "source": [
    "import pandas as pd\n",
    "import json\n",
    "import requests\n",
    "\n",
    "from itertools import groupby"
   ]
  },
  {
   "cell_type": "code",
   "execution_count": 2,
   "metadata": {
    "collapsed": false
   },
   "outputs": [
    {
     "name": "stdout",
     "output_type": "stream",
     "text": [
      "Populating the interactive namespace from numpy and matplotlib\n"
     ]
    }
   ],
   "source": [
    "%pylab inline"
   ]
  },
  {
   "cell_type": "code",
   "execution_count": 3,
   "metadata": {
    "collapsed": true
   },
   "outputs": [],
   "source": [
    "IP = 'http://129.125.5.170'\n",
    "PORT = '8080'\n",
    "COMMIT_STATS_API_URL = '/GitHubCommitStatsRest/webresources/commitstatsfiles/repo/'\n",
    "REQUEST_URL = IP  + ':' + PORT + COMMIT_STATS_API_URL\n",
    "REPO_ID = '51905353'"
   ]
  },
  {
   "cell_type": "code",
   "execution_count": 4,
   "metadata": {
    "collapsed": true
   },
   "outputs": [],
   "source": [
    "def get_date(date):\n",
    "    return pd.Timestamp(date).date()\n",
    "\n",
    "def get_min_date(commitStats):\n",
    "    return get_date(commitStats[0].get('commitDate'))\n",
    "\n",
    "def get_max_date(commitStats):\n",
    "    return get_date(commitStats[len(commitStats) - 1].get('commitDate'))\n",
    "\n",
    "def getCommitStatsFilesList(commitStatsFiles):\n",
    "    commitStatsFilesList = []\n",
    "    for item in commitStatsFiles:\n",
    "        csf = CommitStatsFile(item.get('additions'), item.get('deletions'), item.get('changes'), item.get('status'), item.get('commitDate'))\n",
    "        commitStatsFilesList.append(csf)\n",
    "    return commitStatsFilesList\n",
    "\n",
    "class CommitStatsFile:\n",
    "    def __init__(self, additions, deletions, changes, status, commitDate):\n",
    "        self.additions = additions\n",
    "        self.deletions = deletions\n",
    "        self.changes = changes\n",
    "        self.status = status\n",
    "        self.commitDate = commitDate"
   ]
  },
  {
   "cell_type": "code",
   "execution_count": 5,
   "metadata": {
    "collapsed": false
   },
   "outputs": [],
   "source": [
    "response = requests.get(REQUEST_URL + REPO_ID)\n",
    "json_data = json.loads(response.text)"
   ]
  },
  {
   "cell_type": "code",
   "execution_count": 6,
   "metadata": {
    "collapsed": false
   },
   "outputs": [],
   "source": [
    "commitStatsFiles = json_data['commitStatsFiles']\n",
    "commitStatsFilesList = getCommitStatsFilesList(commitStatsFiles)"
   ]
  },
  {
   "cell_type": "code",
   "execution_count": 7,
   "metadata": {
    "collapsed": false
   },
   "outputs": [],
   "source": [
    "current_date = get_min_date(commitStatsFiles)"
   ]
  },
  {
   "cell_type": "code",
   "execution_count": 8,
   "metadata": {
    "collapsed": false
   },
   "outputs": [
    {
     "name": "stdout",
     "output_type": "stream",
     "text": [
      "Key: 2016-02-05, Number of items: 1\n",
      "Key: 2016-02-17, Number of items: 207\n",
      "Key: 2016-02-20, Number of items: 20\n",
      "Key: 2016-03-02, Number of items: 6\n",
      "Key: 2016-03-03, Number of items: 2\n",
      "Key: 2016-03-04, Number of items: 89\n",
      "Key: 2016-03-05, Number of items: 25\n",
      "Key: 2016-03-08, Number of items: 114\n",
      "Key: 2016-03-09, Number of items: 34\n",
      "Key: 2016-03-10, Number of items: 34\n",
      "Key: 2016-03-17, Number of items: 5\n",
      "Key: 2016-03-18, Number of items: 3\n",
      "Key: 2016-03-22, Number of items: 20\n",
      "Key: 2016-03-23, Number of items: 90\n",
      "Key: 2016-03-24, Number of items: 19\n",
      "Key: 2016-03-25, Number of items: 4\n",
      "Key: 2016-03-26, Number of items: 24\n",
      "Key: 2016-03-27, Number of items: 11\n",
      "Key: 2016-03-28, Number of items: 37\n",
      "Key: 2016-03-31, Number of items: 2\n",
      "Key: 2016-04-01, Number of items: 14\n",
      "Key: 2016-04-02, Number of items: 84\n",
      "Key: 2016-04-03, Number of items: 6\n",
      "Key: 2016-04-11, Number of items: 2\n",
      "Key: 2016-04-14, Number of items: 7\n",
      "Key: 2016-04-17, Number of items: 2\n",
      "Key: 2016-04-18, Number of items: 32\n",
      "Key: 2016-04-23, Number of items: 5\n",
      "Key: 2016-04-30, Number of items: 1\n",
      "Key: 2016-05-02, Number of items: 3\n",
      "Key: 2016-05-04, Number of items: 1\n",
      "Key: 2016-05-09, Number of items: 4\n",
      "Key: 2016-05-11, Number of items: 7\n",
      "Key: 2016-05-15, Number of items: 10\n",
      "Key: 2016-05-18, Number of items: 23\n",
      "Key: 2016-05-19, Number of items: 3\n",
      "Key: 2016-05-20, Number of items: 3\n",
      "Key: 2016-05-23, Number of items: 9\n",
      "Key: 2016-06-01, Number of items: 1\n",
      "Key: 2016-06-03, Number of items: 2\n",
      "Key: 2016-06-07, Number of items: 7\n",
      "Key: 2016-06-08, Number of items: 3\n",
      "Key: 2016-06-11, Number of items: 27\n",
      "Key: 2016-06-15, Number of items: 3\n",
      "Key: 2016-06-16, Number of items: 11\n",
      "Key: 2016-06-17, Number of items: 5\n",
      "Key: 2016-06-22, Number of items: 2\n",
      "Key: 2016-06-25, Number of items: 26\n",
      "Key: 2016-06-28, Number of items: 13\n",
      "Key: 2016-07-02, Number of items: 1\n",
      "Key: 2016-07-10, Number of items: 50\n",
      "Key: 2016-07-12, Number of items: 12\n",
      "Key: 2016-07-13, Number of items: 3\n",
      "Key: 2016-07-19, Number of items: 17\n",
      "Key: 2016-08-01, Number of items: 3\n",
      "Key: 2016-08-02, Number of items: 4\n",
      "Key: 2016-08-03, Number of items: 3\n",
      "Key: 2016-08-05, Number of items: 2\n",
      "Key: 2016-08-06, Number of items: 6\n",
      "Key: 2016-08-13, Number of items: 4\n",
      "Key: 2016-08-14, Number of items: 3\n",
      "Key: 2016-08-15, Number of items: 6\n",
      "Key: 2016-08-16, Number of items: 9\n",
      "Key: 2016-08-19, Number of items: 81\n",
      "Key: 2016-08-20, Number of items: 18\n",
      "Key: 2016-08-22, Number of items: 1\n",
      "Key: 2016-08-26, Number of items: 45\n",
      "Key: 2016-08-28, Number of items: 24\n",
      "Key: 2016-08-30, Number of items: 2\n",
      "Key: 2016-09-06, Number of items: 19\n",
      "Key: 2016-09-07, Number of items: 12\n",
      "Key: 2016-09-08, Number of items: 8\n",
      "Key: 2016-09-09, Number of items: 5\n",
      "Key: 2016-09-13, Number of items: 9\n",
      "Key: 2016-09-16, Number of items: 4\n",
      "Key: 2016-09-17, Number of items: 4\n",
      "Key: 2016-09-18, Number of items: 39\n",
      "Key: 2016-09-20, Number of items: 2\n",
      "Key: 2016-09-21, Number of items: 5\n",
      "Key: 2016-09-22, Number of items: 24\n",
      "Key: 2016-09-26, Number of items: 21\n",
      "Key: 2016-09-27, Number of items: 28\n",
      "Key: 2016-09-28, Number of items: 2\n",
      "Key: 2016-09-29, Number of items: 4\n",
      "Key: 2016-09-30, Number of items: 1\n",
      "Key: 2016-10-04, Number of items: 30\n",
      "Key: 2016-10-05, Number of items: 7\n",
      "Key: 2016-10-06, Number of items: 47\n",
      "Key: 2016-10-07, Number of items: 11\n",
      "Key: 2016-10-08, Number of items: 11\n",
      "Key: 2016-10-11, Number of items: 57\n",
      "Key: 2016-10-12, Number of items: 18\n",
      "Key: 2016-10-16, Number of items: 16\n",
      "Key: 2016-10-17, Number of items: 43\n",
      "Key: 2016-10-18, Number of items: 24\n",
      "Key: 2016-10-21, Number of items: 4\n",
      "Key: 2016-10-26, Number of items: 5\n",
      "Key: 2016-10-29, Number of items: 9\n",
      "Key: 2016-10-30, Number of items: 1\n",
      "Key: 2016-11-01, Number of items: 5\n",
      "Key: 2016-11-02, Number of items: 3\n",
      "Key: 2016-11-03, Number of items: 3\n",
      "Key: 2016-11-06, Number of items: 4\n",
      "Key: 2016-11-07, Number of items: 7\n",
      "Key: 2016-11-08, Number of items: 15\n",
      "Key: 2016-11-09, Number of items: 5\n",
      "Key: 2016-11-11, Number of items: 7\n",
      "Key: 2016-11-16, Number of items: 2\n",
      "Key: 2016-11-18, Number of items: 50\n",
      "Key: 2016-11-21, Number of items: 4\n",
      "Key: 2016-11-22, Number of items: 6\n",
      "Key: 2016-11-26, Number of items: 18\n",
      "Key: 2016-11-29, Number of items: 39\n",
      "Key: 2016-11-30, Number of items: 17\n",
      "Key: 2016-12-01, Number of items: 5\n",
      "Key: 2016-12-02, Number of items: 39\n",
      "Key: 2016-12-04, Number of items: 6\n",
      "Key: 2016-12-06, Number of items: 7\n",
      "Key: 2016-12-07, Number of items: 3\n",
      "Key: 2016-12-08, Number of items: 4\n",
      "Key: 2016-12-09, Number of items: 19\n",
      "Key: 2016-12-10, Number of items: 37\n",
      "Key: 2016-12-13, Number of items: 78\n",
      "Key: 2016-12-14, Number of items: 2\n",
      "Key: 2016-12-15, Number of items: 5\n",
      "Key: 2016-12-18, Number of items: 8\n",
      "Key: 2016-12-19, Number of items: 11\n",
      "Key: 2016-12-20, Number of items: 43\n",
      "Key: 2016-12-21, Number of items: 19\n",
      "Key: 2016-12-24, Number of items: 22\n",
      "Key: 2016-12-28, Number of items: 21\n",
      "Key: 2016-12-29, Number of items: 13\n",
      "Key: 2017-01-02, Number of items: 4\n",
      "Key: 2017-01-03, Number of items: 36\n",
      "Key: 2017-01-05, Number of items: 8\n",
      "Key: 2017-01-06, Number of items: 43\n",
      "Key: 2017-01-07, Number of items: 4\n",
      "Key: 2017-01-08, Number of items: 19\n",
      "Key: 2017-01-10, Number of items: 14\n",
      "Key: 2017-01-11, Number of items: 8\n",
      "Key: 2017-01-12, Number of items: 9\n",
      "Key: 2017-01-13, Number of items: 35\n",
      "Key: 2017-01-15, Number of items: 2\n",
      "Key: 2017-01-16, Number of items: 1\n",
      "Key: 2017-01-18, Number of items: 5\n",
      "Key: 2017-01-19, Number of items: 49\n",
      "Key: 2017-01-20, Number of items: 10\n",
      "Key: 2017-01-21, Number of items: 36\n",
      "Key: 2017-01-22, Number of items: 2\n",
      "Key: 2017-01-23, Number of items: 47\n",
      "Key: 2017-01-24, Number of items: 6\n",
      "Key: 2017-01-25, Number of items: 5\n",
      "Key: 2017-01-26, Number of items: 6\n",
      "Key: 2017-01-27, Number of items: 15\n",
      "Key: 2017-01-30, Number of items: 11\n",
      "Key: 2017-01-31, Number of items: 4\n",
      "Key: 2017-02-02, Number of items: 11\n",
      "Key: 2017-02-03, Number of items: 1\n",
      "Key: 2017-02-04, Number of items: 34\n",
      "Key: 2017-02-05, Number of items: 17\n",
      "Key: 2017-02-06, Number of items: 49\n",
      "Key: 2017-02-07, Number of items: 15\n",
      "Key: 2017-02-08, Number of items: 16\n",
      "Key: 2017-02-09, Number of items: 21\n",
      "Key: 2017-02-10, Number of items: 4\n",
      "Key: 2017-02-12, Number of items: 2\n",
      "Key: 2017-02-13, Number of items: 16\n",
      "Key: 2017-02-14, Number of items: 4\n",
      "Key: 2017-02-15, Number of items: 12\n",
      "Key: 2017-02-21, Number of items: 4\n"
     ]
    }
   ],
   "source": [
    "groups = groupby(commitStatsFilesList, lambda csf: (get_date(csf.commitDate)))\n",
    "for key, group in groups:\n",
    "    print (\"Key: %s, Number of items: %s\" % (key, len(list(group))))"
   ]
  },
  {
   "cell_type": "code",
   "execution_count": null,
   "metadata": {
    "collapsed": true
   },
   "outputs": [],
   "source": []
  }
 ],
 "metadata": {
  "kernelspec": {
   "display_name": "Python 3",
   "language": "python",
   "name": "python3"
  },
  "language_info": {
   "codemirror_mode": {
    "name": "ipython",
    "version": 3
   },
   "file_extension": ".py",
   "mimetype": "text/x-python",
   "name": "python",
   "nbconvert_exporter": "python",
   "pygments_lexer": "ipython3",
   "version": "3.6.0"
  }
 },
 "nbformat": 4,
 "nbformat_minor": 2
}
