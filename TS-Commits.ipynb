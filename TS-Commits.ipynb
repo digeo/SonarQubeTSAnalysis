{
 "cells": [
  {
   "cell_type": "code",
   "execution_count": 1,
   "metadata": {
    "collapsed": true
   },
   "outputs": [],
   "source": [
    "import pandas as pd\n",
    "import json\n",
    "import requests\n",
    "\n",
    "from itertools import groupby"
   ]
  },
  {
   "cell_type": "code",
   "execution_count": 2,
   "metadata": {
    "collapsed": false
   },
   "outputs": [
    {
     "name": "stdout",
     "output_type": "stream",
     "text": [
      "Populating the interactive namespace from numpy and matplotlib\n"
     ]
    }
   ],
   "source": [
    "%pylab inline"
   ]
  },
  {
   "cell_type": "code",
   "execution_count": 3,
   "metadata": {
    "collapsed": true
   },
   "outputs": [],
   "source": [
    "IP = 'http://129.125.5.170'\n",
    "PORT = '8080'\n",
    "COMMIT_STATS_API_URL = '/GitHubCommitStatsRest/webresources/commitstatsfiles/repo/'\n",
    "REQUEST_URL = IP  + ':' + PORT + COMMIT_STATS_API_URL\n",
    "REPO_ID = '51905353'"
   ]
  },
  {
   "cell_type": "code",
   "execution_count": 4,
   "metadata": {
    "collapsed": true
   },
   "outputs": [],
   "source": [
    "def get_date(date):\n",
    "    return pd.Timestamp(date).date()\n",
    "\n",
    "def get_min_date(commitStatsFiles):\n",
    "    return get_date(commitStatsFiles[0].get('commitDate'))\n",
    "\n",
    "def get_max_date(commitStatsFiles):\n",
    "    return get_date(commitStatsFiles[len(commitStatsFiles) - 1].get('commitDate'))\n",
    "\n",
    "def getCommitStatsFilesList(commitStatsFiles):\n",
    "    commitStatsFilesList = []\n",
    "    for item in commitStatsFiles:\n",
    "        csf = CommitStatsFile(item.get('additions'), item.get('deletions'), item.get('changes'), item.get('status'), item.get('commitDate'))\n",
    "        commitStatsFilesList.append(csf)\n",
    "    return commitStatsFilesList\n",
    "\n",
    "def get_date_range_index(min_project_date, max_project_date):\n",
    "    return pd.date_range(start=min_project_date, end=max_project_date, freq='D')\n",
    "\n",
    "class CommitStatsFile:\n",
    "    def __init__(self, additions, deletions, changes, status, commitDate):\n",
    "        self.additions = additions\n",
    "        self.deletions = deletions\n",
    "        self.changes = changes\n",
    "        self.status = status\n",
    "        self.commitDate = commitDate"
   ]
  },
  {
   "cell_type": "code",
   "execution_count": 5,
   "metadata": {
    "collapsed": false
   },
   "outputs": [],
   "source": [
    "response = requests.get(REQUEST_URL + REPO_ID)\n",
    "json_data = json.loads(response.text)"
   ]
  },
  {
   "cell_type": "code",
   "execution_count": 6,
   "metadata": {
    "collapsed": false
   },
   "outputs": [],
   "source": [
    "commitStatsFiles = json_data['commitStatsFiles']\n",
    "commitStatsFilesList = getCommitStatsFilesList(commitStatsFiles)"
   ]
  },
  {
   "cell_type": "code",
   "execution_count": 7,
   "metadata": {
    "collapsed": false
   },
   "outputs": [],
   "source": [
    "min_project_date = get_min_date(commitStatsFiles)\n",
    "max_project_date = get_max_date(commitStatsFiles)"
   ]
  },
  {
   "cell_type": "code",
   "execution_count": 8,
   "metadata": {
    "collapsed": false
   },
   "outputs": [],
   "source": [
    "date_range_index = get_date_range_index(min_project_date, max_project_date)\n",
    "df = pd.DataFrame(index=date_range_index)\n",
    "groups = groupby(commitStatsFilesList, lambda csf: (get_date(csf.commitDate)))"
   ]
  },
  {
   "cell_type": "code",
   "execution_count": 9,
   "metadata": {
    "collapsed": true
   },
   "outputs": [],
   "source": [
    "added = pd.Series(index=date_range_index)\n",
    "modified = pd.Series(index=date_range_index)\n",
    "removed = pd.Series(index=date_range_index)\n",
    "renamed = pd.Series(index=date_range_index)\n",
    "\n",
    "for key, group in groups:\n",
    "    grp = list(group)\n",
    "    added[key] = 0\n",
    "    modified[key] = 0\n",
    "    removed[key] = 0\n",
    "    renamed[key] = 0\n",
    "    for item in grp:\n",
    "        if(item.status == 'added'):\n",
    "            added[key] +=1\n",
    "        elif(item.status == 'modified'):\n",
    "            modified[key] +=1\n",
    "        elif(item.status == 'removed'):\n",
    "            removed[key] +=1\n",
    "        elif(item.status == 'renamed'):\n",
    "            renamed[key] +=1"
   ]
  },
  {
   "cell_type": "code",
   "execution_count": 10,
   "metadata": {
    "collapsed": false
   },
   "outputs": [
    {
     "name": "stdout",
     "output_type": "stream",
     "text": [
      "            added  modified  removed  renamed\n",
      "2016-02-05    1.0       0.0      0.0      0.0\n",
      "2016-02-06    NaN       NaN      NaN      NaN\n",
      "2016-02-07    NaN       NaN      NaN      NaN\n",
      "2016-02-08    NaN       NaN      NaN      NaN\n",
      "2016-02-09    NaN       NaN      NaN      NaN\n",
      "2016-02-10    NaN       NaN      NaN      NaN\n",
      "2016-02-11    NaN       NaN      NaN      NaN\n",
      "2016-02-12    NaN       NaN      NaN      NaN\n",
      "2016-02-13    NaN       NaN      NaN      NaN\n",
      "2016-02-14    NaN       NaN      NaN      NaN\n",
      "2016-02-15    NaN       NaN      NaN      NaN\n",
      "2016-02-16    NaN       NaN      NaN      NaN\n",
      "2016-02-17  198.0       9.0      0.0      0.0\n",
      "2016-02-18    NaN       NaN      NaN      NaN\n",
      "2016-02-19    NaN       NaN      NaN      NaN\n",
      "2016-02-20    0.0      19.0      0.0      1.0\n",
      "2016-02-21    NaN       NaN      NaN      NaN\n",
      "2016-02-22    NaN       NaN      NaN      NaN\n",
      "2016-02-23    NaN       NaN      NaN      NaN\n",
      "2016-02-24    NaN       NaN      NaN      NaN\n",
      "2016-02-25    NaN       NaN      NaN      NaN\n",
      "2016-02-26    NaN       NaN      NaN      NaN\n",
      "2016-02-27    NaN       NaN      NaN      NaN\n",
      "2016-02-28    NaN       NaN      NaN      NaN\n",
      "2016-02-29    NaN       NaN      NaN      NaN\n",
      "2016-03-01    NaN       NaN      NaN      NaN\n",
      "2016-03-02    2.0       4.0      0.0      0.0\n",
      "2016-03-03    2.0       0.0      0.0      0.0\n",
      "2016-03-04    7.0      81.0      0.0      1.0\n",
      "2016-03-05    8.0      14.0      0.0      3.0\n",
      "...           ...       ...      ...      ...\n",
      "2017-01-23    5.0      40.0      2.0      0.0\n",
      "2017-01-24    0.0       6.0      0.0      0.0\n",
      "2017-01-25    3.0       2.0      0.0      0.0\n",
      "2017-01-26    0.0       6.0      0.0      0.0\n",
      "2017-01-27    0.0      15.0      0.0      0.0\n",
      "2017-01-28    NaN       NaN      NaN      NaN\n",
      "2017-01-29    NaN       NaN      NaN      NaN\n",
      "2017-01-30    2.0       9.0      0.0      0.0\n",
      "2017-01-31    0.0       4.0      0.0      0.0\n",
      "2017-02-01    NaN       NaN      NaN      NaN\n",
      "2017-02-02    3.0       8.0      0.0      0.0\n",
      "2017-02-03    0.0       1.0      0.0      0.0\n",
      "2017-02-04    5.0      29.0      0.0      0.0\n",
      "2017-02-05    0.0      16.0      1.0      0.0\n",
      "2017-02-06    1.0      48.0      0.0      0.0\n",
      "2017-02-07    5.0      10.0      0.0      0.0\n",
      "2017-02-08    1.0      15.0      0.0      0.0\n",
      "2017-02-09    0.0      21.0      0.0      0.0\n",
      "2017-02-10    0.0       4.0      0.0      0.0\n",
      "2017-02-11    NaN       NaN      NaN      NaN\n",
      "2017-02-12    0.0       2.0      0.0      0.0\n",
      "2017-02-13    0.0      16.0      0.0      0.0\n",
      "2017-02-14    1.0       3.0      0.0      0.0\n",
      "2017-02-15    0.0      12.0      0.0      0.0\n",
      "2017-02-16    NaN       NaN      NaN      NaN\n",
      "2017-02-17    NaN       NaN      NaN      NaN\n",
      "2017-02-18    NaN       NaN      NaN      NaN\n",
      "2017-02-19    NaN       NaN      NaN      NaN\n",
      "2017-02-20    NaN       NaN      NaN      NaN\n",
      "2017-02-21    0.0       4.0      0.0      0.0\n",
      "\n",
      "[383 rows x 4 columns]\n"
     ]
    }
   ],
   "source": [
    "df['added'] = added\n",
    "df['modified'] = modified\n",
    "df['removed'] = removed\n",
    "df['renamed'] = renamed\n",
    "\n",
    "print(df)"
   ]
  }
 ],
 "metadata": {
  "kernelspec": {
   "display_name": "Python 3",
   "language": "python",
   "name": "python3"
  },
  "language_info": {
   "codemirror_mode": {
    "name": "ipython",
    "version": 3
   },
   "file_extension": ".py",
   "mimetype": "text/x-python",
   "name": "python",
   "nbconvert_exporter": "python",
   "pygments_lexer": "ipython3",
   "version": "3.6.0"
  }
 },
 "nbformat": 4,
 "nbformat_minor": 2
}
