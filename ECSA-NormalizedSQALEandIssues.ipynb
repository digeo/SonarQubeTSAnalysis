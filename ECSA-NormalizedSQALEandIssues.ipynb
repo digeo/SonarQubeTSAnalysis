{
 "cells": [
  {
   "cell_type": "code",
   "execution_count": null,
   "metadata": {
    "collapsed": true
   },
   "outputs": [],
   "source": [
    "import pandas as pd\n",
    "import json\n",
    "import requests\n",
    "import math\n",
    "import matplotlib.pylab as plt\n",
    "import statsmodels.api as sm\n",
    "from scipy.stats import norm, mstats\n",
    "\n",
    "from itertools import groupby\n",
    "from datetime import datetime as dt"
   ]
  },
  {
   "cell_type": "code",
   "execution_count": null,
   "metadata": {
    "collapsed": false
   },
   "outputs": [],
   "source": [
    "%pylab inline"
   ]
  },
  {
   "cell_type": "code",
   "execution_count": null,
   "metadata": {
    "collapsed": true
   },
   "outputs": [],
   "source": [
    "METRICS_ALL = 'accessors,new_technical_debt,blocker_violations,conditions_to_cover,new_it_conditions_to_cover,new_conditions_to_cover,bugs,burned_budget,business_value,class_complexity_distribution,classes,code_smells,comment_lines,commented_out_code_lines,comment_lines_density,comment_lines_data,complexity,class_complexity,file_complexity,function_complexity,complexity_in_classes,complexity_in_functions,branch_coverage,new_it_branch_coverage,new_branch_coverage,conditions_by_line,confirmed_issues,coverage,new_it_coverage,coverage_line_hits_data,new_coverage,covered_conditions_by_line,critical_violations,last_commit_date,directories,duplicated_blocks,new_duplicated_blocks,duplicated_files,duplicated_lines,duplicated_lines_density,new_duplicated_lines,new_duplicated_lines_density,duplications_data,effort_to_reach_maintainability_rating_a,executable_lines_data,false_positive_issues,file_complexity_distribution,files,function_complexity_distribution,functions,generated_lines,generated_ncloc,info_violations,violations,it_conditions_to_cover,it_branch_coverage,it_conditions_by_line,it_coverage,it_coverage_line_hits_data,it_covered_conditions_by_line,it_line_coverage,it_lines_to_cover,it_uncovered_conditions,it_uncovered_lines,line_coverage,new_it_line_coverage,new_line_coverage,lines,ncloc,ncloc_language_distribution,new_lines,lines_to_cover,new_it_lines_to_cover,new_lines_to_cover,sqale_rating,new_maintainability_rating,major_violations,minor_violations,ncloc_data,new_blocker_violations,new_bugs,new_code_smells,new_critical_violations,new_info_violations,new_violations,new_major_violations,new_minor_violations,new_vulnerabilities,open_issues,overall_conditions_to_cover,new_overall_conditions_to_cover,overall_branch_coverage,new_overall_branch_coverage,overall_conditions_by_line,overall_coverage,overall_coverage_line_hits_data,new_overall_coverage,overall_covered_conditions_by_line,overall_line_coverage,new_overall_line_coverage,overall_lines_to_cover,new_overall_lines_to_cover,overall_uncovered_conditions,new_overall_uncovered_conditions,overall_uncovered_lines,new_overall_uncovered_lines,quality_profiles,projects,public_api,public_documented_api_density,public_undocumented_api,quality_gate_details,alert_status,reliability_rating,new_reliability_rating,reliability_remediation_effort,new_reliability_remediation_effort,reopened_issues,security_rating,new_security_rating,security_remediation_effort,new_security_remediation_effort,skipped_tests,development_cost,statements,team_size,sqale_index,sqale_debt_ratio,new_sqale_debt_ratio,uncovered_conditions,new_it_uncovered_conditions,new_uncovered_conditions,uncovered_lines,new_it_uncovered_lines,new_uncovered_lines,test_data,test_execution_time,test_errors,test_failures,test_success_density,tests,vulnerabilities,wont_fix_issues'\n",
    "METRICS_NOTNULL = 'blocker_violations,bugs,classes,code_smells,comment_lines,comment_lines_density,complexity,class_complexity,file_complexity,function_complexity,complexity_in_classes,complexity_in_functions,confirmed_issues,critical_violations,last_commit_date,directories,duplicated_blocks,duplicated_files,duplicated_lines,duplicated_lines_density,effort_to_reach_maintainability_rating_a,false_positive_issues,file_complexity_distribution,files,function_complexity_distribution,functions,info_violations,violations,lines,ncloc,ncloc_language_distribution,sqale_rating,major_violations,minor_violations,open_issues,quality_profiles,quality_gate_details,alert_status,reliability_rating,reliability_remediation_effort,reopened_issues,security_rating,security_remediation_effort,development_cost,statements,sqale_index,sqale_debt_ratio,vulnerabilities,wont_fix_issues'\n",
    "METRICS_NOTNULL_NOTSTRING = 'blocker_violations,bugs,classes,code_smells,comment_lines,comment_lines_density,complexity,class_complexity,file_complexity,function_complexity,complexity_in_classes,complexity_in_functions,confirmed_issues,critical_violations,last_commit_date,directories,duplicated_blocks,duplicated_files,duplicated_lines,duplicated_lines_density,effort_to_reach_maintainability_rating_a,false_positive_issues,files,functions,info_violations,violations,lines,ncloc,major_violations,minor_violations,open_issues,reliability_remediation_effort,reopened_issues,security_remediation_effort,development_cost,statements,sqale_index,sqale_debt_ratio,vulnerabilities,wont_fix_issues'\n",
    "METRICS_NOTNULL_NOTSTRING_NOTLASTITEMVALUE = 'blocker_violations,bugs,classes,code_smells,comment_lines,comment_lines_density,complexity,class_complexity,file_complexity,function_complexity,confirmed_issues,critical_violations,last_commit_date,directories,duplicated_blocks,duplicated_files,duplicated_lines,duplicated_lines_density,effort_to_reach_maintainability_rating_a,false_positive_issues,files,functions,info_violations,violations,lines,ncloc,major_violations,minor_violations,open_issues,reliability_remediation_effort,reopened_issues,security_remediation_effort,development_cost,statements,sqale_index,sqale_debt_ratio,vulnerabilities,wont_fix_issues'\n",
    "METRICS_MTD = 'code_smells,bugs,classes,lines,ncloc,sqale_index,violations,blocker_violations,critical_violations,major_violations,minor_violations'\n",
    "METRICS_ECSA = 'complexity,class_complexity,file_complexity,function_complexity,comment_lines,comment_lines_density,duplicated_blocks,duplicated_files,duplicated_lines,duplicated_lines_density,violations,blocker_violations,critical_violations,major_violations,minor_violations,info_violations,open_issues,code_smells,sqale_index,sqale_debt_ratio,bugs,reliability_remediation_effort,vulnerabilities,security_remediation_effort,classes,directories,files,lines,ncloc,functions,statements'\n",
    "METRICS = METRICS_ECSA\n",
    "METRICS_LIST = METRICS.split(',')\n",
    "metrics_list_length = len(METRICS_LIST)\n",
    "\n",
    "#esolved=false\n",
    "resolutions = 'FALSE-POSITIVE,WONTFIX,FIXED,REMOVED'.split(',')\n",
    "severities = 'INFO,MINOR,MAJOR,CRITICAL,BLOCKER'.split(',')\n",
    "types = 'CODE_SMELL,BUG,VULNERABILITY'.split(',')"
   ]
  },
  {
   "cell_type": "markdown",
   "metadata": {},
   "source": [
    "# General functions"
   ]
  },
  {
   "cell_type": "code",
   "execution_count": null,
   "metadata": {
    "collapsed": true
   },
   "outputs": [],
   "source": [
    "def get_rest_response(rest_url):\n",
    "    response = requests.get(rest_url)\n",
    "    return json.loads(response.text)\n",
    "\n",
    "def jsonDate_to_date(date):\n",
    "    return datetime.datetime.fromtimestamp(date / 1e3)\n",
    "\n",
    "def get_date(date):\n",
    "    return pd.Timestamp(date).date()\n",
    "\n",
    "def plot(plt):\n",
    "    plt.plot(figsize=(15,10))"
   ]
  },
  {
   "cell_type": "code",
   "execution_count": null,
   "metadata": {
    "collapsed": true
   },
   "outputs": [],
   "source": [
    "def mk_test(x, alpha = 0.05):  \n",
    "    \"\"\"\n",
    "    \n",
    "    http://michaelpaulschramm.com/simple-time-series-trend-analysis/\n",
    "    \n",
    "    Input:\n",
    "        x:   a vector of data\n",
    "        alpha: significance level (0.05 default)\n",
    "\n",
    "    Output:\n",
    "        trend: tells the trend (increasing, decreasing or no trend)\n",
    "        h: True (if trend is present) or False (if trend is absence)\n",
    "        p: p value of the significance test\n",
    "        z: normalized test statistics \n",
    "\n",
    "    Examples\n",
    "    --------\n",
    "      >>> x = np.random.rand(100)\n",
    "      >>> trend,h,p,z = mk_test(x,0.05) \n",
    "    \"\"\"\n",
    "    n = len(x)\n",
    "\n",
    "    # calculate S \n",
    "    s = 0\n",
    "    for k in range(n-1):\n",
    "        for j in range(k+1,n):\n",
    "            s += np.sign(x[j] - x[k])\n",
    "\n",
    "    # calculate the unique data\n",
    "    unique_x = np.unique(x)\n",
    "    g = len(unique_x)\n",
    "\n",
    "    # calculate the var(s)\n",
    "    if n == g: # there is no tie\n",
    "        var_s = (n*(n-1)*(2*n+5))/18\n",
    "    else: # there are some ties in data\n",
    "        tp = np.zeros(unique_x.shape)\n",
    "        for i in range(len(unique_x)):\n",
    "            tp[i] = sum(unique_x[i] == x)\n",
    "        var_s = (n*(n-1)*(2*n+5) + np.sum(tp*(tp-1)*(2*tp+5)))/18\n",
    "\n",
    "    if s>0:\n",
    "        z = (s - 1)/np.sqrt(var_s)\n",
    "    elif s == 0:\n",
    "            z = 0\n",
    "    elif s<0:\n",
    "        z = (s + 1)/np.sqrt(var_s)\n",
    "\n",
    "    # calculate the p_value\n",
    "    p = 2*(1-norm.cdf(abs(z))) # two tail test\n",
    "    h = abs(z) > norm.ppf(1-alpha/2) \n",
    "\n",
    "    if (z<0) and h:\n",
    "        trend = 'decreasing'\n",
    "    elif (z>0) and h:\n",
    "        trend = 'increasing'\n",
    "    else:\n",
    "        trend = 'no trend'\n",
    "\n",
    "    return trend, h, p, z"
   ]
  },
  {
   "cell_type": "markdown",
   "metadata": {},
   "source": [
    "# Functions for getting SonarQube timemachine metrics"
   ]
  },
  {
   "cell_type": "code",
   "execution_count": 28,
   "metadata": {
    "collapsed": false
   },
   "outputs": [],
   "source": [
    "from prep import *"
   ]
  },
  {
   "cell_type": "code",
   "execution_count": null,
   "metadata": {
    "collapsed": true
   },
   "outputs": [],
   "source": [
    "def get_sonarqube_timemachine_metrics_DataFrame(ghp):\n",
    "    json_data = get_sonarqube_timemachine_metrics(ghp)\n",
    "    cells = get_cells(json_data)\n",
    "    return transform_timemachine_metrics_to_series(cells)\n",
    "\n",
    "def get_sonarqube_timemachine_metrics(ghp):\n",
    "    return get_rest_response(ghp.timemachine_metrics_url + METRICS)\n",
    "\n",
    "def get_cells(json_data):\n",
    "    return json_data[0]['cells']  # cells - metric values\n",
    "\n",
    "def get_colls(json_data):\n",
    "    return json_data[0]['cols']  # cols - Metrcs\n",
    "\n",
    "def get_no_of_versions(cells):\n",
    "    return len(cells)\n",
    "\n",
    "def transform_timemachine_metrics_to_series(cells):\n",
    "    date_range_index = get_date_range_index_for_timemachine_metrics(cells)\n",
    "    df = pd.DataFrame(index=date_range_index)\n",
    "    for metric_index in range(0, metrics_list_length):\n",
    "        s = pd.Series(index=date_range_index)\n",
    "        for item in cells:\n",
    "            s[pd.Timestamp(item.get('d')).date()] = item.get('v')[metric_index]\n",
    "        df[METRICS_LIST[metric_index]] = s\n",
    "    return df\n",
    "\n",
    "\n",
    "def get_date_range_index_for_timemachine_metrics(cells):\n",
    "    project_dates = get_project_dates(cells)\n",
    "    min_project_date = min(project_dates)\n",
    "    max_project_date = max(project_dates)\n",
    "    return pd.date_range(start=min_project_date.date(), end=max_project_date.date(), freq='D')\n",
    "\n",
    "def get_project_dates(cells):\n",
    "    dates = []\n",
    "    for item in cells:\n",
    "        dates.append(pd.Timestamp(item.get('d')))\n",
    "    return dates"
   ]
  },
  {
   "cell_type": "markdown",
   "metadata": {},
   "source": [
    "# Perform the analysis"
   ]
  },
  {
   "cell_type": "code",
   "execution_count": null,
   "metadata": {
    "collapsed": false,
    "scrolled": false
   },
   "outputs": [],
   "source": [
    "# repos = get_repos()\n",
    "# for ghp in repos:\n",
    "#     print(ghp.repo)\n",
    "#     timemachine_metrics = get_sonarqube_timemachine_metrics_DataFrame(ghp)\n",
    "#     timemachine_metrics = timemachine_metrics.fillna(method='ffill')\n",
    "#     timemachine_metrics['normalized_td'] = timemachine_metrics['sqale_index']/timemachine_metrics['ncloc']\n",
    "#     issues = timemachine_metrics[['violations','blocker_violations','critical_violations','major_violations','minor_violations','info_violations','open_issues']]\n",
    "#     smells_bugs_classes = timemachine_metrics[['code_smells','bugs','classes']]\n",
    "#     lines_sqale = timemachine_metrics[['lines','ncloc','sqale_index']]\n",
    "    \n",
    "#     complexity = timemachine_metrics[['complexity','class_complexity','file_complexity','function_complexity']]\n",
    "#     documentation = timemachine_metrics[['comment_lines','comment_lines_density']]\n",
    "#     duplications = timemachine_metrics[['duplicated_blocks','duplicated_files','duplicated_lines','duplicated_lines_density']]\n",
    "#     maintainability = timemachine_metrics[['code_smells','sqale_index','sqale_debt_ratio']]\n",
    "#     reliability = timemachine_metrics[['bugs','reliability_remediation_effort']]\n",
    "#     security = timemachine_metrics[['vulnerabilities','security_remediation_effort']]\n",
    "#     size = timemachine_metrics[['classes','directories','files','lines','ncloc','functions','statements']]\n",
    "    \n",
    "#     plot(complexity)\n",
    "#     plot(documentation)\n",
    "#     plot(duplications)\n",
    "#     plot(issues)\n",
    "#     plot(maintainability)\n",
    "#     plot(reliability)\n",
    "#     plot(security)\n",
    "#     plot(size)\n",
    "    \n",
    "#     plot(smells_bugs_classes)\n",
    "#     plot(lines_sqale)\n",
    "#     plt.figure()\n",
    "#     plot(timemachine_metrics['normalized_td'])\n",
    "    \n",
    "#     timemachine_metrics = timemachine_metrics[timemachine_metrics.index.weekday==6]\n",
    "#     res = sm.tsa.seasonal_decompose(timemachine_metrics['normalized_td'])\n",
    "#     resplot = res.plot()\n",
    "#     resplot.show()"
   ]
  },
  {
   "cell_type": "code",
   "execution_count": null,
   "metadata": {
    "collapsed": true
   },
   "outputs": [],
   "source": [
    "def get_no_loops(response):\n",
    "    total = response['total']\n",
    "    ps = response['ps']\n",
    "    no_of_loops = math.ceil(response['total'] / response['ps']) + 1\n",
    "    return total, ps, no_of_loops\n",
    "\n",
    "def ddd(ghp):\n",
    "    response = get_rest_response(ghp.issues_url)\n",
    "    total, ps, no_of_loops = get_no_loops(response)\n",
    "    \n",
    "    for p in range(2, no_of_loops):\n",
    "        print (get_rest_response(ghp.issues_url + '&p=' + str(p))['issues'])\n",
    "        print(ghp.issues_url + '&p=' + str(p))"
   ]
  },
  {
   "cell_type": "code",
   "execution_count": 30,
   "metadata": {
    "collapsed": false
   },
   "outputs": [
    {
     "name": "stdout",
     "output_type": "stream",
     "text": [
      "sling\n",
      "{'squid:S1135': 563, 'squid:S1133': 161, 'squid:RedundantThrowsDeclarationCheck': 565, 'squid:S2293': 2947, 'squid:S00119': 153, 'squid:S1481': 71, 'squid:S1596': 40, 'squid:S1199': 191, 'squid:ModifiersOrderCheck': 445, 'squid:S00100': 351, 'squid:UselessParenthesesCheck': 299, 'squid:S1170': 53, 'squid:UselessImportCheck': 168, 'squid:S1213': 626, 'squid:S1197': 63, 'squid:S2786': 13, 'squid:S1301': 7, 'squid:S2147': 152, 'squid:S00117': 61, 'squid:S00116': 130, 'squid:S1450': 113, 'squid:S3008': 130, 'squid:S3398': 39, 'squid:S1905': 16, 'squid:S1488': 124, 'squid:S1165': 7, 'squid:S1940': 4, 'squid:S2094': 12, 'squid:S1185': 37, 'squid:S1659': 45, 'squid:S1612': 7, 'squid:S1220': 2, 'squid:S1153': 46, 'squid:S00101': 3, 'squid:S1126': 6, 'squid:S1125': 12, 'squid:S1610': 16, 'squid:S1611': 1, 'squid:S3400': 14, 'squid:S00120': 15, 'squid:S1319': 12, 'squid:S1264': 1, 'squid:S2065': 3, 'squid:CallToDeprecatedMethod': 2, 'squid:S2912': 1, 'squid:S2184': 19, 'squid:EmptyStatementUsageCheck': 58, 'squid:S1871': 109, 'squid:S2272': 14, 'squid:S3599': 177, 'squid:S1226': 385, 'squid:S1132': 364, 'squid:S1206': 11, 'squid:S2160': 10, 'squid:S1155': 162, 'squid:S1157': 4, 'squid:S3027': 64, 'squid:S2130': 39, 'squid:S1643': 46, 'squid:S2674': 5, 'squid:S2692': 8, 'squid:S2131': 36, 'squid:S2129': 138, 'squid:S1210': 20, 'squid:S1182': 3, 'squid:S1858': 13, 'squid:S2274': 2, 'squid:S2676': 3, 'squid:S1158': 9, 'squid:S2140': 2, 'squid:S2153': 1, 'squid:ClassVariableVisibilityCheck': 181, 'squid:S1444': 58, 'squid:S899': 50, 'squid:S2386': 50, 'squid:S1313': 66, 'squid:S1148': 26, 'squid:S3066': 1, 'squid:S1604': 117, 'squid:CommentedOutCodeLine': 300, 'squid:HiddenFieldCheck': 228, 'squid:S1068': 53, 'squid:S1172': 115, 'squid:S1188': 132, 'squid:S1066': 156, 'squid:UnusedPrivateMethod': 319, 'common-java:DuplicatedBlocks': 558, 'squid:S1168': 170, 'squid:S135': 77, 'squid:S00108': 198, 'squid:S00107': 39, 'squid:S1700': 18, 'squid:S1161': 502, 'squid:S1118': 247, 'squid:S106': 172, 'squid:S1141': 91, 'squid:S1160': 79, 'squid:S1171': 182, 'squid:S1151': 152, 'squid:MissingDeprecatedCheck': 41, 'squid:S00122': 276, 'squid:S2166': 27, 'squid:S00104': 15, 'squid:LabelsShouldNotBeUsedCheck': 14, 'squid:AssignmentInSubExpressionCheck': 11, 'squid:S1134': 13, 'squid:S2209': 1, 'squid:ForLoopCounterChangedCheck': 26, 'squid:S1193': 21, 'squid:S2326': 2, 'squid:S1191': 7, 'squid:MaximumInheritanceDepth': 1, 'squid:S1150': 2, 'squid:S1479': 2, 'squid:S1854': 272, 'squid:S00112': 1611, 'squid:S1166': 1180, 'squid:S1149': 493, 'squid:S2142': 90, 'squid:S1181': 182, 'squid:S2259': 150, 'squid:S1244': 13, 'squid:S2864': 31, 'squid:S3346': 6, 'squid:S128': 7, 'squid:S2583': 63, 'squid:S1872': 7, 'squid:S1143': 2, 'squid:S1163': 2, 'squid:S2677': 7, 'squid:S2885': 9, 'squid:ObjectFinalizeOverridenCheck': 3, 'squid:S3034': 4, 'squid:S2201': 4, 'squid:S2159': 10, 'squid:S1862': 2, 'squid:S2118': 6, 'squid:S2275': 13, 'squid:S1201': 9, 'squid:S1850': 3, 'squid:S2445': 8, 'squid:S2178': 2, 'squid:S3067': 1, 'squid:S2681': 4, 'squid:S1192': 2448, 'squid:S3776': 732, 'squid:S1186': 478, 'squid:S134': 1251, 'squid:S1452': 56, 'squid:S1214': 75, 'squid:MethodCyclomaticComplexity': 522, 'squid:S1609': 218, 'squid:S00115': 63, 'squid:SwitchLastCaseIsDefaultCheck': 51, 'squid:S1067': 64, 'squid:S2093': 135, 'squid:S2696': 54, 'squid:S2447': 6, 'squid:S1948': 3, 'squid:S2222': 1, 'squid:S1845': 40, 'squid:S2975': 5, 'squid:S2387': 1, 'squid:S2095': 44, 'squid:S2168': 4, 'squid:S2276': 4, 'squid:S1147': 4, 'squid:S2068': 25}\n"
     ]
    }
   ],
   "source": [
    "severities = 'INFO,MINOR,MAJOR,CRITICAL,BLOCKER'.split(',')\n",
    "types = 'CODE_SMELL,BUG,VULNERABILITY'.split(',')\n",
    "\n",
    "repos = get_repos1()\n",
    "for ghp in repos:\n",
    "    print(ghp.repo)\n",
    "    project_rules = {}\n",
    "    for severity in severities:\n",
    "        for type in types:\n",
    "            issues_url = build_issues_url(ghp.issues_url, type, severity)\n",
    "            response = get_rest_response(issues_url)\n",
    "            total, ps, no_of_loops = get_no_loops(response)\n",
    "            issues = response['issues']\n",
    "            for issue in issues:\n",
    "                project_rules[issue['rule']] = project_rules.get(issue['rule'], 0) + 1\n",
    "            for p in range(2, no_of_loops):\n",
    "                response = get_rest_response(issues_url + '&p=' + str(p))\n",
    "                issues = response['issues']\n",
    "                for issue in issues:\n",
    "                    project_rules[issue['rule']] = project_rules.get(issue['rule'], 0) + 1\n",
    "                    \n",
    "    print(project_rules)"
   ]
  },
  {
   "cell_type": "code",
   "execution_count": null,
   "metadata": {
    "collapsed": true
   },
   "outputs": [],
   "source": [
    "# def build_issues_url(issues_url, parameter_key, parameter_value):\n",
    "#     return issues_url + '&' + parameter_key + '=' + parameter_value\n",
    "\n",
    "# def get_issues_url_by_type(issues_url, type):\n",
    "#     return build_issues_url(issues_url, 'types', type)\n",
    "    \n",
    "# def get_issues_url_by_severity(issues_url, severity):\n",
    "#     return build_issues_url(issues_url, 'severities', severity)\n",
    "    \n",
    "# def get_issues_url_by_resolution(issues_url, resolution):\n",
    "#     return build_issues_url(issues_url, 'resolutions', resolution)"
   ]
  },
  {
   "cell_type": "code",
   "execution_count": null,
   "metadata": {
    "collapsed": true
   },
   "outputs": [],
   "source": [
    "def build_issues_url(issues_url, type, severity):\n",
    "    return issues_url + '&types=' + type + '&severities=' + severity"
   ]
  },
  {
   "cell_type": "code",
   "execution_count": null,
   "metadata": {
    "collapsed": true
   },
   "outputs": [],
   "source": []
  }
 ],
 "metadata": {
  "kernelspec": {
   "display_name": "Python 3",
   "language": "python",
   "name": "python3"
  },
  "language_info": {
   "codemirror_mode": {
    "name": "ipython",
    "version": 3
   },
   "file_extension": ".py",
   "mimetype": "text/x-python",
   "name": "python",
   "nbconvert_exporter": "python",
   "pygments_lexer": "ipython3",
   "version": "3.6.0"
  }
 },
 "nbformat": 4,
 "nbformat_minor": 2
}
