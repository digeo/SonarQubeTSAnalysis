{
 "cells": [
  {
   "cell_type": "markdown",
   "metadata": {},
   "source": [
    "# SonarQube TS Analysis Multiple Projects in one chart"
   ]
  },
  {
   "cell_type": "code",
   "execution_count": 1,
   "metadata": {
    "collapsed": true
   },
   "outputs": [],
   "source": [
    "import pandas as pd\n",
    "import json\n",
    "import requests"
   ]
  },
  {
   "cell_type": "code",
   "execution_count": 2,
   "metadata": {
    "collapsed": true
   },
   "outputs": [],
   "source": [
    "METRICS_ALL = 'accessors,new_technical_debt,blocker_violations,conditions_to_cover,new_it_conditions_to_cover,new_conditions_to_cover,bugs,burned_budget,business_value,class_complexity_distribution,classes,code_smells,comment_lines,commented_out_code_lines,comment_lines_density,comment_lines_data,complexity,class_complexity,file_complexity,function_complexity,complexity_in_classes,complexity_in_functions,branch_coverage,new_it_branch_coverage,new_branch_coverage,conditions_by_line,confirmed_issues,coverage,new_it_coverage,coverage_line_hits_data,new_coverage,covered_conditions_by_line,critical_violations,last_commit_date,directories,duplicated_blocks,new_duplicated_blocks,duplicated_files,duplicated_lines,duplicated_lines_density,new_duplicated_lines,new_duplicated_lines_density,duplications_data,effort_to_reach_maintainability_rating_a,executable_lines_data,false_positive_issues,file_complexity_distribution,files,function_complexity_distribution,functions,generated_lines,generated_ncloc,info_violations,violations,it_conditions_to_cover,it_branch_coverage,it_conditions_by_line,it_coverage,it_coverage_line_hits_data,it_covered_conditions_by_line,it_line_coverage,it_lines_to_cover,it_uncovered_conditions,it_uncovered_lines,line_coverage,new_it_line_coverage,new_line_coverage,lines,ncloc,ncloc_language_distribution,new_lines,lines_to_cover,new_it_lines_to_cover,new_lines_to_cover,sqale_rating,new_maintainability_rating,major_violations,minor_violations,ncloc_data,new_blocker_violations,new_bugs,new_code_smells,new_critical_violations,new_info_violations,new_violations,new_major_violations,new_minor_violations,new_vulnerabilities,open_issues,overall_conditions_to_cover,new_overall_conditions_to_cover,overall_branch_coverage,new_overall_branch_coverage,overall_conditions_by_line,overall_coverage,overall_coverage_line_hits_data,new_overall_coverage,overall_covered_conditions_by_line,overall_line_coverage,new_overall_line_coverage'\n",
    "METRICS_NOTNULL = 'blocker_violations,bugs,classes,code_smells,comment_lines,comment_lines_density,complexity,class_complexity,file_complexity,function_complexity,confirmed_issues,critical_violations,last_commit_date,directories,duplicated_blocks,duplicated_files,duplicated_lines,duplicated_lines_density,effort_to_reach_maintainability_rating_a,false_positive_issues,file_complexity_distribution,files,function_complexity_distribution,functions,info_violations,violations,lines,ncloc,ncloc_language_distribution,sqale_rating,major_violations,minor_violations,open_issues'\n",
    "METRICS_NOTNULL_NOT_STRING = 'blocker_violations,bugs,classes,code_smells,comment_lines,comment_lines_density,complexity,class_complexity,file_complexity,function_complexity,confirmed_issues,critical_violations,last_commit_date,directories,duplicated_blocks,duplicated_files,duplicated_lines,duplicated_lines_density,effort_to_reach_maintainability_rating_a,false_positive_issues,files,functions,info_violations,violations,lines,ncloc,major_violations,minor_violations,open_issues'\n",
    "METRICS_MIRCEA = 'code_smells,bugs,classes,lines,ncloc'\n",
    "METRICS = METRICS_MIRCEA\n",
    "SONARQUBE_IP = 'http://195.251.210.166'\n",
    "SONARQUBE_PORT = '9000'\n",
    "GITHUB_OWNER = 'eclipse'\n",
    "GITHUB_REPO = 'winery'\n",
    "SONARQUBE_PROJECT_KEY = GITHUB_OWNER + ':' + GITHUB_REPO\n",
    "SONARQUBE_API_URL = SONARQUBE_IP + ':' + SONARQUBE_PORT + '/api/'\n",
    "SONARQUBE_RESOURCE = 'resource=' + SONARQUBE_PROJECT_KEY\n",
    "METRICS_LIST = METRICS.split(',')\n",
    "PROJECT_KEYS = ['eclipse:buildship', 'eclipse:gef', 'eclipse:kapua', 'eclipse:leshan', 'eclipse:nebula', 'eclipse:smarthome', 'spring-projects:spring-data-envers', 'eclipse:tycho', 'eclipse:vorto', 'eclipse:winery']\n",
    "metrics_list_length = len(METRICS_LIST)"
   ]
  },
  {
   "cell_type": "code",
   "execution_count": 3,
   "metadata": {
    "collapsed": true
   },
   "outputs": [],
   "source": [
    "def get_metrics_for_all_the_projects(metric_index):\n",
    "    df = pd.DataFrame()\n",
    "    for key in PROJECT_KEYS:\n",
    "        sq_resource = 'resource=' + key\n",
    "        response = requests.get(SONARQUBE_API_URL + 'timemachine?' + sq_resource + '&metrics=' + METRICS)\n",
    "        json_data = json.loads(response.text)\n",
    "        cells = json_data[0]['cells']  # cells - metric values\n",
    "        cols = json_data[0]['cols']  # cols - Metrcs\n",
    "\n",
    "        no_of_commits = len(cells)\n",
    "        metric_series = []\n",
    "        for item in cells:\n",
    "            metric_series.append(item.get('v')[metric_index])\n",
    "        pds = pd.Series(metric_series, index=list(range(0, no_of_commits)))\n",
    "        df[key] = pds\n",
    "    return df"
   ]
  },
  {
   "cell_type": "code",
   "execution_count": 4,
   "metadata": {
    "collapsed": false
   },
   "outputs": [
    {
     "name": "stdout",
     "output_type": "stream",
     "text": [
      "CODE_SMELLS CHART\n"
     ]
    },
    {
     "data": {
      "text/plain": [
       "<matplotlib.axes._subplots.AxesSubplot at 0xa0421d0>"
      ]
     },
     "execution_count": 4,
     "metadata": {},
     "output_type": "execute_result"
    }
   ],
   "source": [
    "print('code_smells chart'.upper())\n",
    "df = get_metrics_for_all_the_projects(0)\n",
    "df.plot()"
   ]
  },
  {
   "cell_type": "code",
   "execution_count": null,
   "metadata": {
    "collapsed": true
   },
   "outputs": [],
   "source": [
    "print('bugs chart'.upper())\n",
    "df = get_metrics_for_all_the_projects(1)\n",
    "df.plot()"
   ]
  },
  {
   "cell_type": "code",
   "execution_count": null,
   "metadata": {
    "collapsed": true
   },
   "outputs": [],
   "source": [
    "print('classes chart'.upper())\n",
    "df = get_metrics_for_all_the_projects(2)\n",
    "df.plot()"
   ]
  },
  {
   "cell_type": "code",
   "execution_count": null,
   "metadata": {
    "collapsed": true
   },
   "outputs": [],
   "source": [
    "print('lines chart'.upper())\n",
    "df = get_metrics_for_all_the_projects(3)\n",
    "df.plot()"
   ]
  },
  {
   "cell_type": "code",
   "execution_count": null,
   "metadata": {
    "collapsed": true
   },
   "outputs": [],
   "source": [
    "print('ncloc chart'.upper())\n",
    "df = get_metrics_for_all_the_projects(4)\n",
    "df.plot()"
   ]
  }
 ],
 "metadata": {
  "kernelspec": {
   "display_name": "Python 3",
   "language": "python",
   "name": "python3"
  },
  "language_info": {
   "codemirror_mode": {
    "name": "ipython",
    "version": 3
   },
   "file_extension": ".py",
   "mimetype": "text/x-python",
   "name": "python",
   "nbconvert_exporter": "python",
   "pygments_lexer": "ipython3",
   "version": "3.6.0"
  }
 },
 "nbformat": 4,
 "nbformat_minor": 2
}
