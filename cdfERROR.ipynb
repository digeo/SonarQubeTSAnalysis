{
 "cells": [
  {
   "cell_type": "code",
   "execution_count": 1,
   "metadata": {
    "collapsed": false
   },
   "outputs": [
    {
     "name": "stdout",
     "output_type": "stream",
     "text": [
      "Populating the interactive namespace from numpy and matplotlib\n"
     ]
    },
    {
     "name": "stderr",
     "output_type": "stream",
     "text": [
      "C:\\Users\\P276495\\AppData\\Local\\Continuum\\Anaconda3\\lib\\site-packages\\IPython\\core\\magics\\pylab.py:161: UserWarning: pylab import has clobbered these variables: ['norm', 'plt', 'types']\n",
      "`%matplotlib` prevents importing * from pylab and numpy\n",
      "  \"\\n`%matplotlib` prevents importing * from pylab and numpy\"\n"
     ]
    }
   ],
   "source": [
    "import pandas as pd\n",
    "import json\n",
    "import requests\n",
    "import math\n",
    "import matplotlib.pylab as plt\n",
    "import statsmodels.api as sm\n",
    "import seaborn as sns\n",
    "import numpy as np\n",
    "from scipy.stats import norm, mstats\n",
    "\n",
    "from itertools import groupby\n",
    "from datetime import datetime as dt\n",
    "\n",
    "from prep import *\n",
    "%pylab inline"
   ]
  },
  {
   "cell_type": "code",
   "execution_count": 2,
   "metadata": {
    "collapsed": true
   },
   "outputs": [],
   "source": [
    "def mk_test(x, alpha = 0.05):  \n",
    "    \"\"\"\n",
    "    \n",
    "    http://michaelpaulschramm.com/simple-time-series-trend-analysis/\n",
    "    \n",
    "    Input:\n",
    "        x:   a vector of data\n",
    "        alpha: significance level (0.05 default)\n",
    "\n",
    "    Output:\n",
    "        trend: tells the trend (increasing, decreasing or no trend)\n",
    "        h: True (if trend is present) or False (if trend is absence)\n",
    "        p: p value of the significance test\n",
    "        z: normalized test statistics \n",
    "\n",
    "    Examples\n",
    "    --------\n",
    "      >>> x = np.random.rand(100)\n",
    "      >>> trend,h,p,z = mk_test(x,0.05) \n",
    "    \"\"\"\n",
    "    n = len(x)\n",
    "\n",
    "    # calculate S \n",
    "    s = 0\n",
    "    for k in range(n-1):\n",
    "        for j in range(k+1,n):\n",
    "            s += np.sign(x[j] - x[k])\n",
    "\n",
    "    # calculate the unique data\n",
    "    unique_x = np.unique(x)\n",
    "    g = len(unique_x)\n",
    "\n",
    "    # calculate the var(s)\n",
    "    if n == g: # there is no tie\n",
    "        var_s = (n*(n-1)*(2*n+5))/18\n",
    "    else: # there are some ties in data\n",
    "        tp = np.zeros(unique_x.shape)\n",
    "        for i in range(len(unique_x)):\n",
    "            tp[i] = sum(unique_x[i] == x)\n",
    "        var_s = (n*(n-1)*(2*n+5) + np.sum(tp*(tp-1)*(2*tp+5)))/18\n",
    "\n",
    "    if s>0:\n",
    "        z = (s - 1)/np.sqrt(var_s)\n",
    "    elif s == 0:\n",
    "            z = 0\n",
    "    elif s<0:\n",
    "        z = (s + 1)/np.sqrt(var_s)\n",
    "\n",
    "    # calculate the p_value\n",
    "    p = 2*(1-norm.cdf(abs(z))) # two tail test\n",
    "    h = abs(z) > norm.ppf(1-alpha/2) \n",
    "\n",
    "    if (z<0) and h:\n",
    "        trend = 'decreasing'\n",
    "    elif (z>0) and h:\n",
    "        trend = 'increasing'\n",
    "    else:\n",
    "        trend = 'no trend'\n",
    "    \n",
    "    print (trend)\n",
    "    print (h)\n",
    "    print (p)\n",
    "    print (z)\n",
    "\n",
    "#     return trend, h, p, z"
   ]
  },
  {
   "cell_type": "markdown",
   "metadata": {},
   "source": [
    "# Functions for getting SonarQube timemachine metrics"
   ]
  },
  {
   "cell_type": "code",
   "execution_count": 3,
   "metadata": {
    "collapsed": true
   },
   "outputs": [],
   "source": [
    "def get_sonarqube_timemachine_metrics_DataFrame(ghp):\n",
    "    json_data = get_sonarqube_timemachine_metrics(ghp)\n",
    "    cells = get_cells(json_data)\n",
    "    return transform_timemachine_metrics_to_series(cells)\n",
    "\n",
    "def get_sonarqube_timemachine_metrics(ghp):\n",
    "    return get_rest_response(ghp.timemachine_metrics_url + METRICS)\n",
    "\n",
    "def get_cells(json_data):\n",
    "    return json_data[0]['cells']  # cells - metric values\n",
    "\n",
    "def get_colls(json_data):\n",
    "    return json_data[0]['cols']  # cols - Metrcs\n",
    "\n",
    "def get_no_of_versions(cells):\n",
    "    return len(cells)\n",
    "\n",
    "def transform_timemachine_metrics_to_series(cells):\n",
    "    date_range_index = get_date_range_index_for_timemachine_metrics(cells)\n",
    "    df = pd.DataFrame(index=date_range_index)\n",
    "    for metric_index in range(0, metrics_list_length):\n",
    "        s = pd.Series(index=date_range_index)\n",
    "        for item in cells:\n",
    "            s[pd.Timestamp(item.get('d')).date()] = item.get('v')[metric_index]\n",
    "        df[METRICS_LIST[metric_index]] = s\n",
    "    return df\n",
    "\n",
    "\n",
    "def get_date_range_index_for_timemachine_metrics(cells):\n",
    "    project_dates = get_project_dates(cells)\n",
    "    min_project_date = min(project_dates)\n",
    "    max_project_date = max(project_dates)\n",
    "    return pd.date_range(start=min_project_date.date(), end=max_project_date.date(), freq='D')\n",
    "\n",
    "def get_project_dates(cells):\n",
    "    dates = []\n",
    "    for item in cells:\n",
    "        dates.append(pd.Timestamp(item.get('d')))\n",
    "    return dates"
   ]
  },
  {
   "cell_type": "markdown",
   "metadata": {},
   "source": [
    "# Perform the analysis"
   ]
  },
  {
   "cell_type": "code",
   "execution_count": 4,
   "metadata": {
    "collapsed": false,
    "scrolled": false
   },
   "outputs": [],
   "source": [
    "# repos = get_repos()\n",
    "# for ghp in repos:\n",
    "#     print(ghp.repo)\n",
    "#     timemachine_metrics = get_sonarqube_timemachine_metrics_DataFrame(ghp)\n",
    "#     timemachine_metrics = timemachine_metrics.fillna(method='ffill')\n",
    "#     timemachine_metrics['normalized_td'] = timemachine_metrics['sqale_index']/timemachine_metrics['ncloc']\n",
    "#     issues = timemachine_metrics[['violations','blocker_violations','critical_violations','major_violations','minor_violations','info_violations','open_issues']]\n",
    "#     smells_bugs_classes = timemachine_metrics[['code_smells','bugs','classes']]\n",
    "#     lines_sqale = timemachine_metrics[['lines','ncloc','sqale_index']]\n",
    "    \n",
    "#     complexity = timemachine_metrics[['complexity','class_complexity','file_complexity','function_complexity']]\n",
    "#     documentation = timemachine_metrics[['comment_lines','comment_lines_density']]\n",
    "#     duplications = timemachine_metrics[['duplicated_blocks','duplicated_files','duplicated_lines','duplicated_lines_density']]\n",
    "#     maintainability = timemachine_metrics[['code_smells','sqale_index','sqale_debt_ratio']]\n",
    "#     reliability = timemachine_metrics[['bugs','reliability_remediation_effort']]\n",
    "#     security = timemachine_metrics[['vulnerabilities','security_remediation_effort']]\n",
    "#     size = timemachine_metrics[['classes','directories','files','lines','ncloc','functions','statements']]\n",
    "    \n",
    "#     plot(complexity)\n",
    "#     plot(documentation)\n",
    "#     plot(duplications)\n",
    "#     plot(issues)\n",
    "#     plot(maintainability)\n",
    "#     plot(reliability)\n",
    "#     plot(security)\n",
    "#     plot(size)\n",
    "    \n",
    "#     plot(smells_bugs_classes)\n",
    "#     plot(lines_sqale)\n",
    "#     plt.figure()\n",
    "#     plot(timemachine_metrics['normalized_td'])\n",
    "    \n",
    "#     timemachine_metrics = timemachine_metrics[timemachine_metrics.index.weekday==6]\n",
    "#     res = sm.tsa.seasonal_decompose(timemachine_metrics['normalized_td'])\n",
    "#     resplot = res.plot()\n",
    "#     resplot.show()"
   ]
  },
  {
   "cell_type": "code",
   "execution_count": 5,
   "metadata": {
    "collapsed": true
   },
   "outputs": [],
   "source": [
    "def get_no_loops(response):\n",
    "    total = response['total']\n",
    "    ps = response['ps']\n",
    "    no_of_loops = math.ceil(response['total'] / response['ps']) + 1\n",
    "    return total, ps, no_of_loops\n",
    "\n",
    "def build_issues_url(issues_url, type, severity):\n",
    "    return issues_url + '&types=' + type + '&severities=' + severity\n",
    "\n",
    "def ddd(ghp):\n",
    "    response = get_rest_response(ghp.issues_url)\n",
    "    total, ps, no_of_loops = get_no_loops(response)\n",
    "    \n",
    "    for p in range(2, no_of_loops):\n",
    "        print (get_rest_response(ghp.issues_url + '&p=' + str(p))['issues'])\n",
    "        print(ghp.issues_url + '&p=' + str(p))\n",
    "\n",
    "# General functions\n",
    "def get_rest_response(rest_url):\n",
    "    response = requests.get(rest_url)\n",
    "    return json.loads(response.text)\n",
    "\n",
    "def jsonDate_to_date(date):\n",
    "    return datetime.datetime.fromtimestamp(date / 1e3)\n",
    "\n",
    "def get_date(date):\n",
    "    return pd.Timestamp(date).date()\n",
    "\n",
    "def plot(plt):\n",
    "    plt.plot(figsize=(15,10))"
   ]
  },
  {
   "cell_type": "code",
   "execution_count": 6,
   "metadata": {
    "collapsed": false
   },
   "outputs": [],
   "source": [
    "# severities = 'INFO,MINOR,MAJOR,CRITICAL,BLOCKER'.split(',')\n",
    "# types = 'BUG,VULNERABILITY,CODE_SMELL'.split(',')\n",
    "# resolved = 'false'\n",
    "\n",
    "# repos = get_repos()\n",
    "# for ghp in repos:\n",
    "#     print(ghp.repo)\n",
    "#     project_rules = {}\n",
    "#     all_project_rules = {}\n",
    "#     for type in types:\n",
    "#         for severity in severities:\n",
    "#             issues_url = build_issues_url(ghp.issues_url, type, severity) + '&resolved=' + resolved\n",
    "#             response = get_rest_response(issues_url)\n",
    "#             total, ps, no_of_loops = get_no_loops(response)\n",
    "#             issues = response['issues']\n",
    "#             for issue in issues:\n",
    "#                 project_rules[issue['rule']] = project_rules.get(issue['rule'], 0) + 1\n",
    "#                 all_project_rules[issue['rule']] = all_project_rules.get(issue['rule'], 0) + 1\n",
    "#             for p in range(2, no_of_loops):\n",
    "#                 response = get_rest_response(issues_url + '&p=' + str(p))\n",
    "#                 issues = response['issues']\n",
    "#                 for issue in issues:\n",
    "#                     project_rules[issue['rule']] = project_rules.get(issue['rule'], 0) + 1\n",
    "#                     all_project_rules[issue['rule']] = all_project_rules.get(issue['rule'], 0) + 1\n",
    "#         print(type)\n",
    "#         print(project_rules)\n",
    "#         project_rules = {}\n",
    "#     print('all_project_rules')\n",
    "#     print(all_project_rules)"
   ]
  },
  {
   "cell_type": "code",
   "execution_count": 7,
   "metadata": {
    "collapsed": true
   },
   "outputs": [],
   "source": [
    "# def build_issues_url(issues_url, parameter_key, parameter_value):\n",
    "#     return issues_url + '&' + parameter_key + '=' + parameter_value\n",
    "\n",
    "# def get_issues_url_by_type(issues_url, type):\n",
    "#     return build_issues_url(issues_url, 'types', type)\n",
    "    \n",
    "# def get_issues_url_by_severity(issues_url, severity):\n",
    "#     return build_issues_url(issues_url, 'severities', severity)\n",
    "    \n",
    "# def get_issues_url_by_resolution(issues_url, resolution):\n",
    "#     return build_issues_url(issues_url, 'resolutions', resolution)"
   ]
  },
  {
   "cell_type": "code",
   "execution_count": 8,
   "metadata": {
    "collapsed": false,
    "scrolled": false
   },
   "outputs": [
    {
     "name": "stdout",
     "output_type": "stream",
     "text": [
      "sling\n"
     ]
    },
    {
     "name": "stderr",
     "output_type": "stream",
     "text": [
      "C:\\Users\\P276495\\AppData\\Local\\Continuum\\Anaconda3\\lib\\site-packages\\statsmodels\\tsa\\filters\\filtertools.py:28: VisibleDeprecationWarning: using a non-integer number instead of an integer will result in an error in the future\n",
      "  return np.r_[[np.nan] * head, x, [np.nan] * tail]\n",
      "C:\\Users\\P276495\\AppData\\Local\\Continuum\\Anaconda3\\lib\\site-packages\\matplotlib\\figure.py:402: UserWarning: matplotlib is currently using a non-GUI backend, so cannot show the figure\n",
      "  \"matplotlib is currently using a non-GUI backend, \"\n"
     ]
    },
    {
     "ename": "AttributeError",
     "evalue": "'function' object has no attribute 'cdf'",
     "output_type": "error",
     "traceback": [
      "\u001b[0;31m---------------------------------------------------------------------------\u001b[0m",
      "\u001b[0;31mAttributeError\u001b[0m                            Traceback (most recent call last)",
      "\u001b[0;32m<ipython-input-8-e45db97e517c>\u001b[0m in \u001b[0;36m<module>\u001b[0;34m()\u001b[0m\n\u001b[1;32m     11\u001b[0m     \u001b[0mresplot\u001b[0m \u001b[1;33m=\u001b[0m \u001b[0mres\u001b[0m\u001b[1;33m.\u001b[0m\u001b[0mplot\u001b[0m\u001b[1;33m(\u001b[0m\u001b[1;33m)\u001b[0m\u001b[1;33m\u001b[0m\u001b[0m\n\u001b[1;32m     12\u001b[0m     \u001b[0mresplot\u001b[0m\u001b[1;33m.\u001b[0m\u001b[0mshow\u001b[0m\u001b[1;33m(\u001b[0m\u001b[1;33m)\u001b[0m\u001b[1;33m\u001b[0m\u001b[0m\n\u001b[0;32m---> 13\u001b[0;31m     \u001b[0mmk_test\u001b[0m\u001b[1;33m(\u001b[0m\u001b[0mtimemachine_metrics\u001b[0m\u001b[1;33m[\u001b[0m\u001b[1;34m'normalized_td'\u001b[0m\u001b[1;33m]\u001b[0m\u001b[1;33m,\u001b[0m\u001b[0malpha\u001b[0m\u001b[1;33m=\u001b[0m\u001b[1;36m0.05\u001b[0m\u001b[1;33m)\u001b[0m\u001b[1;33m\u001b[0m\u001b[0m\n\u001b[0m",
      "\u001b[0;32m<ipython-input-2-5a1c547db1c1>\u001b[0m in \u001b[0;36mmk_test\u001b[0;34m(x, alpha)\u001b[0m\n\u001b[1;32m     48\u001b[0m \u001b[1;33m\u001b[0m\u001b[0m\n\u001b[1;32m     49\u001b[0m     \u001b[1;31m# calculate the p_value\u001b[0m\u001b[1;33m\u001b[0m\u001b[1;33m\u001b[0m\u001b[0m\n\u001b[0;32m---> 50\u001b[0;31m     \u001b[0mp\u001b[0m \u001b[1;33m=\u001b[0m \u001b[1;36m2\u001b[0m\u001b[1;33m*\u001b[0m\u001b[1;33m(\u001b[0m\u001b[1;36m1\u001b[0m\u001b[1;33m-\u001b[0m\u001b[0mnorm\u001b[0m\u001b[1;33m.\u001b[0m\u001b[0mcdf\u001b[0m\u001b[1;33m(\u001b[0m\u001b[0mabs\u001b[0m\u001b[1;33m(\u001b[0m\u001b[0mz\u001b[0m\u001b[1;33m)\u001b[0m\u001b[1;33m)\u001b[0m\u001b[1;33m)\u001b[0m \u001b[1;31m# two tail test\u001b[0m\u001b[1;33m\u001b[0m\u001b[0m\n\u001b[0m\u001b[1;32m     51\u001b[0m     \u001b[0mh\u001b[0m \u001b[1;33m=\u001b[0m \u001b[0mabs\u001b[0m\u001b[1;33m(\u001b[0m\u001b[0mz\u001b[0m\u001b[1;33m)\u001b[0m \u001b[1;33m>\u001b[0m \u001b[0mnorm\u001b[0m\u001b[1;33m.\u001b[0m\u001b[0mppf\u001b[0m\u001b[1;33m(\u001b[0m\u001b[1;36m1\u001b[0m\u001b[1;33m-\u001b[0m\u001b[0malpha\u001b[0m\u001b[1;33m/\u001b[0m\u001b[1;36m2\u001b[0m\u001b[1;33m)\u001b[0m\u001b[1;33m\u001b[0m\u001b[0m\n\u001b[1;32m     52\u001b[0m \u001b[1;33m\u001b[0m\u001b[0m\n",
      "\u001b[0;31mAttributeError\u001b[0m: 'function' object has no attribute 'cdf'"
     ]
    },
    {
     "data": {
      "image/png": "[encoded data removed]",
      "text/plain": [
       "<matplotlib.figure.Figure at 0xbef4e80>"
      ]
     },
     "metadata": {},
     "output_type": "display_data"
    }
   ],
   "source": [
    "repos = get_repos1()\n",
    "for ghp in repos:\n",
    "    print(ghp.repo)\n",
    "    timemachine_metrics = get_sonarqube_timemachine_metrics_DataFrame(ghp)\n",
    "    timemachine_metrics = timemachine_metrics.fillna(method='ffill')\n",
    "    timemachine_metrics['normalized_td'] = timemachine_metrics['sqale_index']/timemachine_metrics['ncloc']\n",
    "#     plot(timemachine_metrics[['normalized_td', 'sqale_index']])\n",
    "    timemachine_metrics = timemachine_metrics[timemachine_metrics.index.weekday==6]\n",
    "#     plot(timemachine_metrics['normalized_td'])\n",
    "    res = sm.tsa.seasonal_decompose(timemachine_metrics['normalized_td'])\n",
    "    resplot = res.plot()\n",
    "    resplot.show()\n",
    "    mk_test(timemachine_metrics['normalized_td'],alpha=0.05)"
   ]
  },
  {
   "cell_type": "code",
   "execution_count": null,
   "metadata": {
    "collapsed": false
   },
   "outputs": [],
   "source": [
    "x = np.random.rand(100)\n",
    "trend,h,p,z = mk_test(x,0.05)"
   ]
  },
  {
   "cell_type": "code",
   "execution_count": null,
   "metadata": {
    "collapsed": true
   },
   "outputs": [],
   "source": []
  }
 ],
 "metadata": {
  "kernelspec": {
   "display_name": "Python 3",
   "language": "python",
   "name": "python3"
  },
  "language_info": {
   "codemirror_mode": {
    "name": "ipython",
    "version": 3
   },
   "file_extension": ".py",
   "mimetype": "text/x-python",
   "name": "python",
   "nbconvert_exporter": "python",
   "pygments_lexer": "ipython3",
   "version": "3.6.0"
  }
 },
 "nbformat": 4,
 "nbformat_minor": 2
}
